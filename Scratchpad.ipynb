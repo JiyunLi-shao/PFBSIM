{
 "cells": [
  {
   "cell_type": "code",
   "execution_count": 2,
   "metadata": {},
   "outputs": [],
   "source": [
    "import numpy as np\n",
    "import scipy.fftpack as sp\n",
    "import pandas as pd\n",
    "import matplotlib.pyplot as plt\n",
    "\n",
    "%matplotlib inline"
   ]
  },
  {
   "cell_type": "code",
   "execution_count": 3,
   "metadata": {},
   "outputs": [],
   "source": [
    "def signal_gen(coeffs,x_array,freqs):\n",
    "    \n",
    "    signal = np.zeros(len(x_array))\n",
    "    \n",
    "    for c,f in zip(coeffs,freqs):\n",
    "        \n",
    "        signal += c*np.sin(f*2*np.pi*x_array)\n",
    "        \n",
    "    return signal"
   ]
  },
  {
   "cell_type": "code",
   "execution_count": 4,
   "metadata": {},
   "outputs": [
    {
     "name": "stdout",
     "output_type": "stream",
     "text": [
      "4096\n",
      "4096\n"
     ]
    }
   ],
   "source": [
    "# Number of samplepoints\n",
    "N = 4096\n",
    "# sample spacing\n",
    "T = 1.0 / 800.0\n",
    "x = np.linspace(0.0, N*T, N)\n",
    "coefficients = (0.5,0.7,0.1,0.9,0.6,0.5)\n",
    "freqs = (50,200,30,76.789,125)\n",
    "\n",
    "y = signal_gen(coefficients,x,freqs)\n",
    "\n",
    "print(x.size)\n",
    "print(y.size)"
   ]
  },
  {
   "cell_type": "code",
   "execution_count": 5,
   "metadata": {},
   "outputs": [
    {
     "name": "stdout",
     "output_type": "stream",
     "text": [
      "T: 0.00125\n",
      "Max freq: 400.0\n",
      "N: 4096\n"
     ]
    },
    {
     "name": "stderr",
     "output_type": "stream",
     "text": [
      "/usr/lib/python3.7/site-packages/ipykernel_launcher.py:2: DeprecationWarning: object of type <class 'float'> cannot be safely interpreted as an integer.\n",
      "  \n"
     ]
    }
   ],
   "source": [
    "yf = np.fft.fft(y)\n",
    "xf = np.linspace(0.0, 1.0/(2.0*T), N/2)\n",
    "\n",
    "print(\"T:\", str(T))\n",
    "print(\"Max freq:\", str(1.0/(2.0*T)))\n",
    "print(\"N:\", str(N))"
   ]
  },
  {
   "cell_type": "code",
   "execution_count": 6,
   "metadata": {},
   "outputs": [
    {
     "name": "stdout",
     "output_type": "stream",
     "text": [
      "2048\n",
      "4096\n"
     ]
    }
   ],
   "source": [
    "print(xf.size)\n",
    "print(yf.size)"
   ]
  },
  {
   "cell_type": "code",
   "execution_count": 7,
   "metadata": {},
   "outputs": [
    {
     "data": {
      "image/png": "[encoded data removed]",
      "text/plain": [
       "<Figure size 432x288 with 1 Axes>"
      ]
     },
     "metadata": {
      "needs_background": "light"
     },
     "output_type": "display_data"
    }
   ],
   "source": [
    "fig, ax = plt.subplots()\n",
    "ax.plot(xf, 2.0/N * np.abs(yf[:N//2]))\n",
    "plt.show()"
   ]
  },
  {
   "cell_type": "code",
   "execution_count": 38,
   "metadata": {},
   "outputs": [
    {
     "name": "stdout",
     "output_type": "stream",
     "text": [
      "22_91_54_25_61.csv  63_68_84_27_57.csv  LgUe.csv\r\n",
      "60_49_77_93_79.csv  91_65_3_80_80.csv\r\n"
     ]
    }
   ],
   "source": [
    "ls Data/"
   ]
  },
  {
   "cell_type": "code",
   "execution_count": 48,
   "metadata": {},
   "outputs": [
    {
     "data": {
      "text/plain": [
       "8192"
      ]
     },
     "execution_count": 48,
     "metadata": {},
     "output_type": "execute_result"
    }
   ],
   "source": [
    "data = pd.read_csv('Data/60_49_77_93_79.csv')\n",
    "data.shape[0]"
   ]
  },
  {
   "cell_type": "code",
   "execution_count": 49,
   "metadata": {},
   "outputs": [
    {
     "name": "stdout",
     "output_type": "stream",
     "text": [
      "8192\n",
      "0.0012208521548040534\n",
      "409.54999999999995\n"
     ]
    }
   ],
   "source": [
    "N_data = data.shape[0]\n",
    "T_data = data['Time'][1] - data['Time'][0]\n",
    "\n",
    "print(N_data)\n",
    "print(T_data)\n",
    "print(1.0/(2*T_data))"
   ]
  },
  {
   "cell_type": "code",
   "execution_count": 50,
   "metadata": {},
   "outputs": [],
   "source": [
    "### This works, but I don't know why. Will try with another file also.\n",
    "### Update: works with other files with a freqmax of less than 200Hz\n",
    "yf_data = np.fft.fft(data['Signal'])\n",
    "xf_data = np.linspace(0.0, 1.0/(4.0*T_data), int(N_data/4))"
   ]
  },
  {
   "cell_type": "code",
   "execution_count": 51,
   "metadata": {},
   "outputs": [
    {
     "data": {
      "image/png": "[encoded data removed]",
      "text/plain": [
       "<Figure size 432x288 with 1 Axes>"
      ]
     },
     "metadata": {
      "needs_background": "light"
     },
     "output_type": "display_data"
    }
   ],
   "source": [
    "plt.plot(xf_data, 2.0/N * np.abs(yf_data[:N//2]))\n",
    "plt.show()"
   ]
  },
  {
   "cell_type": "markdown",
   "metadata": {},
   "source": [
    "# Figuring out the relationship between sampling intervals and the frequency array"
   ]
  },
  {
   "cell_type": "code",
   "execution_count": 52,
   "metadata": {},
   "outputs": [
    {
     "data": {
      "text/plain": [
       "False"
      ]
     },
     "execution_count": 52,
     "metadata": {},
     "output_type": "execute_result"
    }
   ],
   "source": [
    "data.shape\n",
    "sampling_interval1 = data['Time'][1] - data['Time'][0]\n",
    "sampling_interval2 = data['Time'][25] - data['Time'][24]\n",
    "sampling_interval2 == sampling_interval1"
   ]
  },
  {
   "cell_type": "code",
   "execution_count": 53,
   "metadata": {},
   "outputs": [
    {
     "name": "stdout",
     "output_type": "stream",
     "text": [
      "0        0.000000\n",
      "1        0.001221\n",
      "2        0.002442\n",
      "3        0.003663\n",
      "4        0.004883\n",
      "5        0.006104\n",
      "6        0.007325\n",
      "7        0.008546\n",
      "8        0.009767\n",
      "9        0.010988\n",
      "10       0.012209\n",
      "11       0.013429\n",
      "12       0.014650\n",
      "13       0.015871\n",
      "14       0.017092\n",
      "15       0.018313\n",
      "16       0.019534\n",
      "17       0.020754\n",
      "18       0.021975\n",
      "19       0.023196\n",
      "20       0.024417\n",
      "21       0.025638\n",
      "22       0.026859\n",
      "23       0.028080\n",
      "24       0.029300\n",
      "25       0.030521\n",
      "26       0.031742\n",
      "27       0.032963\n",
      "28       0.034184\n",
      "29       0.035405\n",
      "          ...    \n",
      "8162     9.964595\n",
      "8163     9.965816\n",
      "8164     9.967037\n",
      "8165     9.968258\n",
      "8166     9.969479\n",
      "8167     9.970700\n",
      "8168     9.971920\n",
      "8169     9.973141\n",
      "8170     9.974362\n",
      "8171     9.975583\n",
      "8172     9.976804\n",
      "8173     9.978025\n",
      "8174     9.979246\n",
      "8175     9.980466\n",
      "8176     9.981687\n",
      "8177     9.982908\n",
      "8178     9.984129\n",
      "8179     9.985350\n",
      "8180     9.986571\n",
      "8181     9.987791\n",
      "8182     9.989012\n",
      "8183     9.990233\n",
      "8184     9.991454\n",
      "8185     9.992675\n",
      "8186     9.993896\n",
      "8187     9.995117\n",
      "8188     9.996337\n",
      "8189     9.997558\n",
      "8190     9.998779\n",
      "8191    10.000000\n",
      "Name: Time, Length: 8192, dtype: float64\n"
     ]
    }
   ],
   "source": [
    "print(data['Time'])"
   ]
  },
  {
   "cell_type": "code",
   "execution_count": 54,
   "metadata": {},
   "outputs": [],
   "source": [
    "running_interval = 0\n",
    "pos = 0\n",
    "\n",
    "while pos < len(data['Time']) - 1:\n",
    "    \n",
    "    running_interval += data['Time'][pos + 1] - data['Time'][pos]\n",
    "    \n",
    "    pos += 1\n",
    "    \n",
    "sampling_interval = running_interval/(len(data['Time']) - 1)\n",
    "sampling_frequency = 1/sampling_interval\n",
    "\n",
    "\n",
    "X = np.fft.fft(data['Signal'])\n",
    "freqs = np.fft.fftfreq(len(data['Signal'])) * sampling_frequency"
   ]
  },
  {
   "cell_type": "code",
   "execution_count": 55,
   "metadata": {},
   "outputs": [
    {
     "data": {
      "image/png": "[encoded data removed]",
      "text/plain": [
       "<Figure size 432x288 with 1 Axes>"
      ]
     },
     "metadata": {
      "needs_background": "light"
     },
     "output_type": "display_data"
    }
   ],
   "source": [
    "#60_49_77_93_79\n",
    "\n",
    "plt.figure()\n",
    "plt.plot(freqs,np.abs(X))\n",
    "#plt.xlim(1,100)\n",
    "plt.show()"
   ]
  },
  {
   "cell_type": "code",
   "execution_count": null,
   "metadata": {},
   "outputs": [],
   "source": []
  },
  {
   "cell_type": "code",
   "execution_count": 26,
   "metadata": {
    "scrolled": true
   },
   "outputs": [
    {
     "data": {
      "image/png": "[encoded data removed]",
      "text/plain": [
       "<Figure size 432x288 with 1 Axes>"
      ]
     },
     "metadata": {
      "needs_background": "light"
     },
     "output_type": "display_data"
    }
   ],
   "source": [
    "%matplotlib inline\n",
    "import numpy as np\n",
    "from scipy.fftpack import fft\n",
    "# Number of samplepoints\n",
    "N = 4096\n",
    "# sample spacing\n",
    "T = 1.0 / 20000\n",
    "x = np.linspace(0.0, N*T, N)\n",
    "y = np.sin(5000.0 * 2.0*np.pi*x) + 0.5*np.sin(8000.0 * 2.0*np.pi*x) + 0.35*np.random.random(4096)\n",
    "yf = fft(y)\n",
    "xf = np.fft.fftfreq(N) * 1/T\n",
    "import matplotlib.pyplot as plt\n",
    "plt.plot(xf, 2.0/N * np.abs(yf))\n",
    "plt.show()"
   ]
  },
  {
   "cell_type": "code",
   "execution_count": null,
   "metadata": {},
   "outputs": [],
   "source": []
  }
 ],
 "metadata": {
  "kernelspec": {
   "display_name": "Python 3",
   "language": "python",
   "name": "python3"
  },
  "language_info": {
   "codemirror_mode": {
    "name": "ipython",
    "version": 3
   },
   "file_extension": ".py",
   "mimetype": "text/x-python",
   "name": "python",
   "nbconvert_exporter": "python",
   "pygments_lexer": "ipython3",
   "version": "3.7.2"
  }
 },
 "nbformat": 4,
 "nbformat_minor": 2
}
